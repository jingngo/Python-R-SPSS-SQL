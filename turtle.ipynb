{
 "cells": [
  {
   "cell_type": "code",
   "execution_count": 10,
   "metadata": {},
   "outputs": [
    {
     "data": {
      "text/html": [
       "\n",
       "      <svg width=\"800\" height=\"500\">\n",
       "        <rect width=\"100%\" height=\"100%\" fill=\"black\"/>\n",
       "        <line x1=\"400\" y1=\"250\" x2=\"400.0\" y2=\"290.0\" stroke-linecap=\"round\" style=\"stroke:white;stroke-width:4\"/><line x1=\"400.0\" y1=\"290.0\" x2=\"360.0\" y2=\"290.0\" stroke-linecap=\"round\" style=\"stroke:white;stroke-width:4\"/><line x1=\"360.0\" y1=\"290.0\" x2=\"360.0\" y2=\"230.0\" stroke-linecap=\"round\" style=\"stroke:white;stroke-width:4\"/>\n",
       "        <g visibility=visible transform=\"rotate(360,360.0,230.0) translate(342.0, 212.0)\">\n",
       "<path style=\" stroke:none;fill-rule:evenodd;fill:white;fill-opacity:1;\" d=\"M 18.214844 0.632812 C 16.109375 1.800781 15.011719 4.074219 15.074219 7.132812 L 15.085938 7.652344 L 14.785156 7.496094 C 13.476562 6.824219 11.957031 6.671875 10.40625 7.066406 C 8.46875 7.550781 6.515625 9.15625 4.394531 11.992188 C 3.0625 13.777344 2.679688 14.636719 3.042969 15.027344 L 3.15625 15.152344 L 3.519531 15.152344 C 4.238281 15.152344 4.828125 14.886719 8.1875 13.039062 C 9.386719 12.378906 10.371094 11.839844 10.378906 11.839844 C 10.386719 11.839844 10.355469 11.929688 10.304688 12.035156 C 9.832031 13.09375 9.257812 14.820312 8.96875 16.078125 C 7.914062 20.652344 8.617188 24.53125 11.070312 27.660156 C 11.351562 28.015625 11.363281 27.914062 10.972656 28.382812 C 8.925781 30.84375 7.945312 33.28125 8.238281 35.1875 C 8.289062 35.527344 8.28125 35.523438 8.917969 35.523438 C 10.941406 35.523438 13.074219 34.207031 15.136719 31.6875 C 15.359375 31.417969 15.328125 31.425781 15.5625 31.574219 C 16.292969 32.042969 18.023438 32.964844 18.175781 32.964844 C 18.335938 32.964844 19.941406 32.210938 20.828125 31.71875 C 20.996094 31.625 21.136719 31.554688 21.136719 31.558594 C 21.203125 31.664062 21.898438 32.414062 22.222656 32.730469 C 23.835938 34.300781 25.5625 35.132812 27.582031 35.300781 C 27.90625 35.328125 27.9375 35.308594 28.007812 34.984375 C 28.382812 33.242188 27.625 30.925781 25.863281 28.425781 L 25.542969 27.96875 L 25.699219 27.785156 C 28.945312 23.960938 29.132812 18.699219 26.257812 11.96875 L 26.207031 11.84375 L 27.945312 12.703125 C 31.53125 14.476562 32.316406 14.800781 33.03125 14.800781 C 33.976562 14.800781 33.78125 13.9375 32.472656 12.292969 C 28.519531 7.355469 25.394531 5.925781 21.921875 7.472656 L 21.558594 7.636719 L 21.578125 7.542969 C 21.699219 6.992188 21.761719 5.742188 21.699219 5.164062 C 21.496094 3.296875 20.664062 1.964844 19.003906 0.855469 C 18.480469 0.503906 18.457031 0.5 18.214844 0.632812\"/>\n",
       "</g>\n",
       "      </svg>\n",
       "    "
      ],
      "text/plain": [
       "<IPython.core.display.HTML object>"
      ]
     },
     "metadata": {},
     "output_type": "display_data"
    }
   ],
   "source": [
    "import ColabTurtle.Turtle as t\n",
    "t.initializeTurtle()\n",
    "t.shape('turtle')"
   ]
  },
  {
   "cell_type": "code",
   "execution_count": 13,
   "metadata": {},
   "outputs": [],
   "source": [
    "\n",
    "t.right(90)\n",
    "t.forward(40)\n",
    "t.right(90)\n",
    "t.forward(60)\n",
    "t.shape('turtle')"
   ]
  },
  {
   "cell_type": "code",
   "execution_count": 15,
   "metadata": {},
   "outputs": [
    {
     "data": {
      "text/html": [
       "\n",
       "      <svg width=\"800\" height=\"500\">\n",
       "        <rect width=\"100%\" height=\"100%\" fill=\"black\"/>\n",
       "        <line x1=\"400\" y1=\"250\" x2=\"400.0\" y2=\"240.0\" stroke-linecap=\"round\" style=\"stroke:white;stroke-width:4\"/><line x1=\"400.0\" y1=\"240.0\" x2=\"398.955\" y2=\"230.055\" stroke-linecap=\"round\" style=\"stroke:white;stroke-width:4\"/><line x1=\"398.955\" y1=\"230.055\" x2=\"396.876\" y2=\"220.274\" stroke-linecap=\"round\" style=\"stroke:white;stroke-width:4\"/><line x1=\"396.876\" y1=\"220.274\" x2=\"393.786\" y2=\"210.763\" stroke-linecap=\"round\" style=\"stroke:white;stroke-width:4\"/><line x1=\"393.786\" y1=\"210.763\" x2=\"389.719\" y2=\"201.628\" stroke-linecap=\"round\" style=\"stroke:white;stroke-width:4\"/><line x1=\"389.719\" y1=\"201.628\" x2=\"384.719\" y2=\"192.968\" stroke-linecap=\"round\" style=\"stroke:white;stroke-width:4\"/><line x1=\"384.719\" y1=\"192.968\" x2=\"378.841\" y2=\"184.878\" stroke-linecap=\"round\" style=\"stroke:white;stroke-width:4\"/><line x1=\"378.841\" y1=\"184.878\" x2=\"372.15\" y2=\"177.447\" stroke-linecap=\"round\" style=\"stroke:white;stroke-width:4\"/><line x1=\"372.15\" y1=\"177.447\" x2=\"364.719\" y2=\"170.756\" stroke-linecap=\"round\" style=\"stroke:white;stroke-width:4\"/><line x1=\"364.719\" y1=\"170.756\" x2=\"356.629\" y2=\"164.878\" stroke-linecap=\"round\" style=\"stroke:white;stroke-width:4\"/><line x1=\"356.629\" y1=\"164.878\" x2=\"347.969\" y2=\"159.878\" stroke-linecap=\"round\" style=\"stroke:white;stroke-width:4\"/><line x1=\"347.969\" y1=\"159.878\" x2=\"338.834\" y2=\"155.811\" stroke-linecap=\"round\" style=\"stroke:white;stroke-width:4\"/><line x1=\"338.834\" y1=\"155.811\" x2=\"329.323\" y2=\"152.721\" stroke-linecap=\"round\" style=\"stroke:white;stroke-width:4\"/><line x1=\"329.323\" y1=\"152.721\" x2=\"319.542\" y2=\"150.642\" stroke-linecap=\"round\" style=\"stroke:white;stroke-width:4\"/><line x1=\"319.542\" y1=\"150.642\" x2=\"309.597\" y2=\"149.597\" stroke-linecap=\"round\" style=\"stroke:white;stroke-width:4\"/><line x1=\"309.597\" y1=\"149.597\" x2=\"299.597\" y2=\"149.597\" stroke-linecap=\"round\" style=\"stroke:white;stroke-width:4\"/><line x1=\"299.597\" y1=\"149.597\" x2=\"289.652\" y2=\"150.642\" stroke-linecap=\"round\" style=\"stroke:white;stroke-width:4\"/><line x1=\"289.652\" y1=\"150.642\" x2=\"279.871\" y2=\"152.721\" stroke-linecap=\"round\" style=\"stroke:white;stroke-width:4\"/><line x1=\"279.871\" y1=\"152.721\" x2=\"270.36\" y2=\"155.811\" stroke-linecap=\"round\" style=\"stroke:white;stroke-width:4\"/><line x1=\"270.36\" y1=\"155.811\" x2=\"261.225\" y2=\"159.878\" stroke-linecap=\"round\" style=\"stroke:white;stroke-width:4\"/><line x1=\"261.225\" y1=\"159.878\" x2=\"252.565\" y2=\"164.878\" stroke-linecap=\"round\" style=\"stroke:white;stroke-width:4\"/><line x1=\"252.565\" y1=\"164.878\" x2=\"244.475\" y2=\"170.756\" stroke-linecap=\"round\" style=\"stroke:white;stroke-width:4\"/><line x1=\"244.475\" y1=\"170.756\" x2=\"237.044\" y2=\"177.447\" stroke-linecap=\"round\" style=\"stroke:white;stroke-width:4\"/><line x1=\"237.044\" y1=\"177.447\" x2=\"230.353\" y2=\"184.878\" stroke-linecap=\"round\" style=\"stroke:white;stroke-width:4\"/><line x1=\"230.353\" y1=\"184.878\" x2=\"224.475\" y2=\"192.968\" stroke-linecap=\"round\" style=\"stroke:white;stroke-width:4\"/><line x1=\"224.475\" y1=\"192.968\" x2=\"219.475\" y2=\"201.628\" stroke-linecap=\"round\" style=\"stroke:white;stroke-width:4\"/><line x1=\"219.475\" y1=\"201.628\" x2=\"215.408\" y2=\"210.763\" stroke-linecap=\"round\" style=\"stroke:white;stroke-width:4\"/><line x1=\"215.408\" y1=\"210.763\" x2=\"212.318\" y2=\"220.274\" stroke-linecap=\"round\" style=\"stroke:white;stroke-width:4\"/><line x1=\"212.318\" y1=\"220.274\" x2=\"210.239\" y2=\"230.055\" stroke-linecap=\"round\" style=\"stroke:white;stroke-width:4\"/><line x1=\"210.239\" y1=\"230.055\" x2=\"209.194\" y2=\"240.0\" stroke-linecap=\"round\" style=\"stroke:white;stroke-width:4\"/><line x1=\"209.194\" y1=\"240.0\" x2=\"209.194\" y2=\"250.0\" stroke-linecap=\"round\" style=\"stroke:white;stroke-width:4\"/><line x1=\"209.194\" y1=\"250.0\" x2=\"210.239\" y2=\"259.945\" stroke-linecap=\"round\" style=\"stroke:white;stroke-width:4\"/><line x1=\"210.239\" y1=\"259.945\" x2=\"212.318\" y2=\"269.726\" stroke-linecap=\"round\" style=\"stroke:white;stroke-width:4\"/><line x1=\"212.318\" y1=\"269.726\" x2=\"215.408\" y2=\"279.237\" stroke-linecap=\"round\" style=\"stroke:white;stroke-width:4\"/><line x1=\"215.408\" y1=\"279.237\" x2=\"219.475\" y2=\"288.372\" stroke-linecap=\"round\" style=\"stroke:white;stroke-width:4\"/><line x1=\"219.475\" y1=\"288.372\" x2=\"224.475\" y2=\"297.032\" stroke-linecap=\"round\" style=\"stroke:white;stroke-width:4\"/><line x1=\"224.475\" y1=\"297.032\" x2=\"230.353\" y2=\"305.122\" stroke-linecap=\"round\" style=\"stroke:white;stroke-width:4\"/><line x1=\"230.353\" y1=\"305.122\" x2=\"237.044\" y2=\"312.553\" stroke-linecap=\"round\" style=\"stroke:white;stroke-width:4\"/><line x1=\"237.044\" y1=\"312.553\" x2=\"244.475\" y2=\"319.244\" stroke-linecap=\"round\" style=\"stroke:white;stroke-width:4\"/><line x1=\"244.475\" y1=\"319.244\" x2=\"252.565\" y2=\"325.122\" stroke-linecap=\"round\" style=\"stroke:white;stroke-width:4\"/><line x1=\"252.565\" y1=\"325.122\" x2=\"261.225\" y2=\"330.122\" stroke-linecap=\"round\" style=\"stroke:white;stroke-width:4\"/><line x1=\"261.225\" y1=\"330.122\" x2=\"270.36\" y2=\"334.189\" stroke-linecap=\"round\" style=\"stroke:white;stroke-width:4\"/><line x1=\"270.36\" y1=\"334.189\" x2=\"279.871\" y2=\"337.279\" stroke-linecap=\"round\" style=\"stroke:white;stroke-width:4\"/><line x1=\"279.871\" y1=\"337.279\" x2=\"289.652\" y2=\"339.358\" stroke-linecap=\"round\" style=\"stroke:white;stroke-width:4\"/><line x1=\"289.652\" y1=\"339.358\" x2=\"299.597\" y2=\"340.403\" stroke-linecap=\"round\" style=\"stroke:white;stroke-width:4\"/><line x1=\"299.597\" y1=\"340.403\" x2=\"309.597\" y2=\"340.403\" stroke-linecap=\"round\" style=\"stroke:white;stroke-width:4\"/><line x1=\"309.597\" y1=\"340.403\" x2=\"319.542\" y2=\"339.358\" stroke-linecap=\"round\" style=\"stroke:white;stroke-width:4\"/><line x1=\"319.542\" y1=\"339.358\" x2=\"329.323\" y2=\"337.279\" stroke-linecap=\"round\" style=\"stroke:white;stroke-width:4\"/><line x1=\"329.323\" y1=\"337.279\" x2=\"338.834\" y2=\"334.189\" stroke-linecap=\"round\" style=\"stroke:white;stroke-width:4\"/><line x1=\"338.834\" y1=\"334.189\" x2=\"347.969\" y2=\"330.122\" stroke-linecap=\"round\" style=\"stroke:white;stroke-width:4\"/><line x1=\"347.969\" y1=\"330.122\" x2=\"356.629\" y2=\"325.122\" stroke-linecap=\"round\" style=\"stroke:white;stroke-width:4\"/><line x1=\"356.629\" y1=\"325.122\" x2=\"364.719\" y2=\"319.244\" stroke-linecap=\"round\" style=\"stroke:white;stroke-width:4\"/><line x1=\"364.719\" y1=\"319.244\" x2=\"372.15\" y2=\"312.553\" stroke-linecap=\"round\" style=\"stroke:white;stroke-width:4\"/><line x1=\"372.15\" y1=\"312.553\" x2=\"378.841\" y2=\"305.122\" stroke-linecap=\"round\" style=\"stroke:white;stroke-width:4\"/><line x1=\"378.841\" y1=\"305.122\" x2=\"384.719\" y2=\"297.032\" stroke-linecap=\"round\" style=\"stroke:white;stroke-width:4\"/><line x1=\"384.719\" y1=\"297.032\" x2=\"389.719\" y2=\"288.372\" stroke-linecap=\"round\" style=\"stroke:white;stroke-width:4\"/><line x1=\"389.719\" y1=\"288.372\" x2=\"393.786\" y2=\"279.237\" stroke-linecap=\"round\" style=\"stroke:white;stroke-width:4\"/><line x1=\"393.786\" y1=\"279.237\" x2=\"396.876\" y2=\"269.726\" stroke-linecap=\"round\" style=\"stroke:white;stroke-width:4\"/><line x1=\"396.876\" y1=\"269.726\" x2=\"398.955\" y2=\"259.945\" stroke-linecap=\"round\" style=\"stroke:white;stroke-width:4\"/><line x1=\"398.955\" y1=\"259.945\" x2=\"400.0\" y2=\"250.0\" stroke-linecap=\"round\" style=\"stroke:white;stroke-width:4\"/>\n",
       "        <g visibility=visible transform=\"rotate(360.0,400.0,250.0) translate(382.0, 232.0)\">\n",
       "<path style=\" stroke:none;fill-rule:evenodd;fill:white;fill-opacity:1;\" d=\"M 18.214844 0.632812 C 16.109375 1.800781 15.011719 4.074219 15.074219 7.132812 L 15.085938 7.652344 L 14.785156 7.496094 C 13.476562 6.824219 11.957031 6.671875 10.40625 7.066406 C 8.46875 7.550781 6.515625 9.15625 4.394531 11.992188 C 3.0625 13.777344 2.679688 14.636719 3.042969 15.027344 L 3.15625 15.152344 L 3.519531 15.152344 C 4.238281 15.152344 4.828125 14.886719 8.1875 13.039062 C 9.386719 12.378906 10.371094 11.839844 10.378906 11.839844 C 10.386719 11.839844 10.355469 11.929688 10.304688 12.035156 C 9.832031 13.09375 9.257812 14.820312 8.96875 16.078125 C 7.914062 20.652344 8.617188 24.53125 11.070312 27.660156 C 11.351562 28.015625 11.363281 27.914062 10.972656 28.382812 C 8.925781 30.84375 7.945312 33.28125 8.238281 35.1875 C 8.289062 35.527344 8.28125 35.523438 8.917969 35.523438 C 10.941406 35.523438 13.074219 34.207031 15.136719 31.6875 C 15.359375 31.417969 15.328125 31.425781 15.5625 31.574219 C 16.292969 32.042969 18.023438 32.964844 18.175781 32.964844 C 18.335938 32.964844 19.941406 32.210938 20.828125 31.71875 C 20.996094 31.625 21.136719 31.554688 21.136719 31.558594 C 21.203125 31.664062 21.898438 32.414062 22.222656 32.730469 C 23.835938 34.300781 25.5625 35.132812 27.582031 35.300781 C 27.90625 35.328125 27.9375 35.308594 28.007812 34.984375 C 28.382812 33.242188 27.625 30.925781 25.863281 28.425781 L 25.542969 27.96875 L 25.699219 27.785156 C 28.945312 23.960938 29.132812 18.699219 26.257812 11.96875 L 26.207031 11.84375 L 27.945312 12.703125 C 31.53125 14.476562 32.316406 14.800781 33.03125 14.800781 C 33.976562 14.800781 33.78125 13.9375 32.472656 12.292969 C 28.519531 7.355469 25.394531 5.925781 21.921875 7.472656 L 21.558594 7.636719 L 21.578125 7.542969 C 21.699219 6.992188 21.761719 5.742188 21.699219 5.164062 C 21.496094 3.296875 20.664062 1.964844 19.003906 0.855469 C 18.480469 0.503906 18.457031 0.5 18.214844 0.632812\"/>\n",
       "</g>\n",
       "      </svg>\n",
       "    "
      ],
      "text/plain": [
       "<IPython.core.display.HTML object>"
      ]
     },
     "metadata": {},
     "output_type": "display_data"
    }
   ],
   "source": [
    "def Circle(length, n):\n",
    "    for x in range(n):\n",
    "        t.forward(length)\n",
    "        t.left(360/n)\n",
    "t.initializeTurtle()\n",
    "t.speed\n",
    "\n",
    "Circle(10,60)"
   ]
  },
  {
   "cell_type": "code",
   "execution_count": 16,
   "metadata": {},
   "outputs": [
    {
     "data": {
      "text/html": [
       "\n",
       "      <svg width=\"800\" height=\"500\">\n",
       "        <rect width=\"100%\" height=\"100%\" fill=\"black\"/>\n",
       "        <line x1=\"400\" y1=\"250\" x2=\"400.0\" y2=\"240.0\" stroke-linecap=\"round\" style=\"stroke:white;stroke-width:4\"/><line x1=\"400.0\" y1=\"240.0\" x2=\"398.955\" y2=\"230.055\" stroke-linecap=\"round\" style=\"stroke:red;stroke-width:4\"/><line x1=\"398.955\" y1=\"230.055\" x2=\"396.876\" y2=\"220.274\" stroke-linecap=\"round\" style=\"stroke:yellow;stroke-width:4\"/><line x1=\"396.876\" y1=\"220.274\" x2=\"393.786\" y2=\"210.763\" stroke-linecap=\"round\" style=\"stroke:purple;stroke-width:4\"/><line x1=\"393.786\" y1=\"210.763\" x2=\"389.719\" y2=\"201.628\" stroke-linecap=\"round\" style=\"stroke:red;stroke-width:4\"/><line x1=\"389.719\" y1=\"201.628\" x2=\"384.719\" y2=\"192.968\" stroke-linecap=\"round\" style=\"stroke:yellow;stroke-width:4\"/><line x1=\"384.719\" y1=\"192.968\" x2=\"378.841\" y2=\"184.878\" stroke-linecap=\"round\" style=\"stroke:purple;stroke-width:4\"/><line x1=\"378.841\" y1=\"184.878\" x2=\"372.15\" y2=\"177.447\" stroke-linecap=\"round\" style=\"stroke:red;stroke-width:4\"/><line x1=\"372.15\" y1=\"177.447\" x2=\"364.719\" y2=\"170.756\" stroke-linecap=\"round\" style=\"stroke:yellow;stroke-width:4\"/><line x1=\"364.719\" y1=\"170.756\" x2=\"356.629\" y2=\"164.878\" stroke-linecap=\"round\" style=\"stroke:purple;stroke-width:4\"/><line x1=\"356.629\" y1=\"164.878\" x2=\"347.969\" y2=\"159.878\" stroke-linecap=\"round\" style=\"stroke:red;stroke-width:4\"/><line x1=\"347.969\" y1=\"159.878\" x2=\"338.834\" y2=\"155.811\" stroke-linecap=\"round\" style=\"stroke:yellow;stroke-width:4\"/><line x1=\"338.834\" y1=\"155.811\" x2=\"329.323\" y2=\"152.721\" stroke-linecap=\"round\" style=\"stroke:purple;stroke-width:4\"/><line x1=\"329.323\" y1=\"152.721\" x2=\"319.542\" y2=\"150.642\" stroke-linecap=\"round\" style=\"stroke:red;stroke-width:4\"/><line x1=\"319.542\" y1=\"150.642\" x2=\"309.597\" y2=\"149.597\" stroke-linecap=\"round\" style=\"stroke:yellow;stroke-width:4\"/><line x1=\"309.597\" y1=\"149.597\" x2=\"299.597\" y2=\"149.597\" stroke-linecap=\"round\" style=\"stroke:purple;stroke-width:4\"/><line x1=\"299.597\" y1=\"149.597\" x2=\"289.652\" y2=\"150.642\" stroke-linecap=\"round\" style=\"stroke:red;stroke-width:4\"/><line x1=\"289.652\" y1=\"150.642\" x2=\"279.871\" y2=\"152.721\" stroke-linecap=\"round\" style=\"stroke:yellow;stroke-width:4\"/><line x1=\"279.871\" y1=\"152.721\" x2=\"270.36\" y2=\"155.811\" stroke-linecap=\"round\" style=\"stroke:purple;stroke-width:4\"/><line x1=\"270.36\" y1=\"155.811\" x2=\"261.225\" y2=\"159.878\" stroke-linecap=\"round\" style=\"stroke:red;stroke-width:4\"/><line x1=\"261.225\" y1=\"159.878\" x2=\"252.565\" y2=\"164.878\" stroke-linecap=\"round\" style=\"stroke:yellow;stroke-width:4\"/><line x1=\"252.565\" y1=\"164.878\" x2=\"244.475\" y2=\"170.756\" stroke-linecap=\"round\" style=\"stroke:purple;stroke-width:4\"/><line x1=\"244.475\" y1=\"170.756\" x2=\"237.044\" y2=\"177.447\" stroke-linecap=\"round\" style=\"stroke:red;stroke-width:4\"/><line x1=\"237.044\" y1=\"177.447\" x2=\"230.353\" y2=\"184.878\" stroke-linecap=\"round\" style=\"stroke:yellow;stroke-width:4\"/><line x1=\"230.353\" y1=\"184.878\" x2=\"224.475\" y2=\"192.968\" stroke-linecap=\"round\" style=\"stroke:purple;stroke-width:4\"/><line x1=\"224.475\" y1=\"192.968\" x2=\"219.475\" y2=\"201.628\" stroke-linecap=\"round\" style=\"stroke:red;stroke-width:4\"/><line x1=\"219.475\" y1=\"201.628\" x2=\"215.408\" y2=\"210.763\" stroke-linecap=\"round\" style=\"stroke:yellow;stroke-width:4\"/><line x1=\"215.408\" y1=\"210.763\" x2=\"212.318\" y2=\"220.274\" stroke-linecap=\"round\" style=\"stroke:purple;stroke-width:4\"/><line x1=\"212.318\" y1=\"220.274\" x2=\"210.239\" y2=\"230.055\" stroke-linecap=\"round\" style=\"stroke:red;stroke-width:4\"/><line x1=\"210.239\" y1=\"230.055\" x2=\"209.194\" y2=\"240.0\" stroke-linecap=\"round\" style=\"stroke:yellow;stroke-width:4\"/><line x1=\"209.194\" y1=\"240.0\" x2=\"209.194\" y2=\"250.0\" stroke-linecap=\"round\" style=\"stroke:purple;stroke-width:4\"/><line x1=\"209.194\" y1=\"250.0\" x2=\"210.239\" y2=\"259.945\" stroke-linecap=\"round\" style=\"stroke:red;stroke-width:4\"/><line x1=\"210.239\" y1=\"259.945\" x2=\"212.318\" y2=\"269.726\" stroke-linecap=\"round\" style=\"stroke:yellow;stroke-width:4\"/><line x1=\"212.318\" y1=\"269.726\" x2=\"215.408\" y2=\"279.237\" stroke-linecap=\"round\" style=\"stroke:purple;stroke-width:4\"/><line x1=\"215.408\" y1=\"279.237\" x2=\"219.475\" y2=\"288.372\" stroke-linecap=\"round\" style=\"stroke:red;stroke-width:4\"/><line x1=\"219.475\" y1=\"288.372\" x2=\"224.475\" y2=\"297.032\" stroke-linecap=\"round\" style=\"stroke:yellow;stroke-width:4\"/><line x1=\"224.475\" y1=\"297.032\" x2=\"230.353\" y2=\"305.122\" stroke-linecap=\"round\" style=\"stroke:purple;stroke-width:4\"/><line x1=\"230.353\" y1=\"305.122\" x2=\"237.044\" y2=\"312.553\" stroke-linecap=\"round\" style=\"stroke:red;stroke-width:4\"/><line x1=\"237.044\" y1=\"312.553\" x2=\"244.475\" y2=\"319.244\" stroke-linecap=\"round\" style=\"stroke:yellow;stroke-width:4\"/><line x1=\"244.475\" y1=\"319.244\" x2=\"252.565\" y2=\"325.122\" stroke-linecap=\"round\" style=\"stroke:purple;stroke-width:4\"/><line x1=\"252.565\" y1=\"325.122\" x2=\"261.225\" y2=\"330.122\" stroke-linecap=\"round\" style=\"stroke:red;stroke-width:4\"/><line x1=\"261.225\" y1=\"330.122\" x2=\"270.36\" y2=\"334.189\" stroke-linecap=\"round\" style=\"stroke:yellow;stroke-width:4\"/><line x1=\"270.36\" y1=\"334.189\" x2=\"279.871\" y2=\"337.279\" stroke-linecap=\"round\" style=\"stroke:purple;stroke-width:4\"/><line x1=\"279.871\" y1=\"337.279\" x2=\"289.652\" y2=\"339.358\" stroke-linecap=\"round\" style=\"stroke:red;stroke-width:4\"/><line x1=\"289.652\" y1=\"339.358\" x2=\"299.597\" y2=\"340.403\" stroke-linecap=\"round\" style=\"stroke:yellow;stroke-width:4\"/><line x1=\"299.597\" y1=\"340.403\" x2=\"309.597\" y2=\"340.403\" stroke-linecap=\"round\" style=\"stroke:purple;stroke-width:4\"/><line x1=\"309.597\" y1=\"340.403\" x2=\"319.542\" y2=\"339.358\" stroke-linecap=\"round\" style=\"stroke:red;stroke-width:4\"/><line x1=\"319.542\" y1=\"339.358\" x2=\"329.323\" y2=\"337.279\" stroke-linecap=\"round\" style=\"stroke:yellow;stroke-width:4\"/><line x1=\"329.323\" y1=\"337.279\" x2=\"338.834\" y2=\"334.189\" stroke-linecap=\"round\" style=\"stroke:purple;stroke-width:4\"/><line x1=\"338.834\" y1=\"334.189\" x2=\"347.969\" y2=\"330.122\" stroke-linecap=\"round\" style=\"stroke:red;stroke-width:4\"/><line x1=\"347.969\" y1=\"330.122\" x2=\"356.629\" y2=\"325.122\" stroke-linecap=\"round\" style=\"stroke:yellow;stroke-width:4\"/><line x1=\"356.629\" y1=\"325.122\" x2=\"364.719\" y2=\"319.244\" stroke-linecap=\"round\" style=\"stroke:purple;stroke-width:4\"/><line x1=\"364.719\" y1=\"319.244\" x2=\"372.15\" y2=\"312.553\" stroke-linecap=\"round\" style=\"stroke:red;stroke-width:4\"/><line x1=\"372.15\" y1=\"312.553\" x2=\"378.841\" y2=\"305.122\" stroke-linecap=\"round\" style=\"stroke:yellow;stroke-width:4\"/><line x1=\"378.841\" y1=\"305.122\" x2=\"384.719\" y2=\"297.032\" stroke-linecap=\"round\" style=\"stroke:purple;stroke-width:4\"/><line x1=\"384.719\" y1=\"297.032\" x2=\"389.719\" y2=\"288.372\" stroke-linecap=\"round\" style=\"stroke:red;stroke-width:4\"/><line x1=\"389.719\" y1=\"288.372\" x2=\"393.786\" y2=\"279.237\" stroke-linecap=\"round\" style=\"stroke:yellow;stroke-width:4\"/><line x1=\"393.786\" y1=\"279.237\" x2=\"396.876\" y2=\"269.726\" stroke-linecap=\"round\" style=\"stroke:purple;stroke-width:4\"/><line x1=\"396.876\" y1=\"269.726\" x2=\"398.955\" y2=\"259.945\" stroke-linecap=\"round\" style=\"stroke:red;stroke-width:4\"/><line x1=\"398.955\" y1=\"259.945\" x2=\"400.0\" y2=\"250.0\" stroke-linecap=\"round\" style=\"stroke:yellow;stroke-width:4\"/>\n",
       "        <g visibility=visible transform=\"rotate(360.0,400.0,250.0) translate(382.0, 232.0)\">\n",
       "<path style=\" stroke:none;fill-rule:evenodd;fill:purple;fill-opacity:1;\" d=\"M 18.214844 0.632812 C 16.109375 1.800781 15.011719 4.074219 15.074219 7.132812 L 15.085938 7.652344 L 14.785156 7.496094 C 13.476562 6.824219 11.957031 6.671875 10.40625 7.066406 C 8.46875 7.550781 6.515625 9.15625 4.394531 11.992188 C 3.0625 13.777344 2.679688 14.636719 3.042969 15.027344 L 3.15625 15.152344 L 3.519531 15.152344 C 4.238281 15.152344 4.828125 14.886719 8.1875 13.039062 C 9.386719 12.378906 10.371094 11.839844 10.378906 11.839844 C 10.386719 11.839844 10.355469 11.929688 10.304688 12.035156 C 9.832031 13.09375 9.257812 14.820312 8.96875 16.078125 C 7.914062 20.652344 8.617188 24.53125 11.070312 27.660156 C 11.351562 28.015625 11.363281 27.914062 10.972656 28.382812 C 8.925781 30.84375 7.945312 33.28125 8.238281 35.1875 C 8.289062 35.527344 8.28125 35.523438 8.917969 35.523438 C 10.941406 35.523438 13.074219 34.207031 15.136719 31.6875 C 15.359375 31.417969 15.328125 31.425781 15.5625 31.574219 C 16.292969 32.042969 18.023438 32.964844 18.175781 32.964844 C 18.335938 32.964844 19.941406 32.210938 20.828125 31.71875 C 20.996094 31.625 21.136719 31.554688 21.136719 31.558594 C 21.203125 31.664062 21.898438 32.414062 22.222656 32.730469 C 23.835938 34.300781 25.5625 35.132812 27.582031 35.300781 C 27.90625 35.328125 27.9375 35.308594 28.007812 34.984375 C 28.382812 33.242188 27.625 30.925781 25.863281 28.425781 L 25.542969 27.96875 L 25.699219 27.785156 C 28.945312 23.960938 29.132812 18.699219 26.257812 11.96875 L 26.207031 11.84375 L 27.945312 12.703125 C 31.53125 14.476562 32.316406 14.800781 33.03125 14.800781 C 33.976562 14.800781 33.78125 13.9375 32.472656 12.292969 C 28.519531 7.355469 25.394531 5.925781 21.921875 7.472656 L 21.558594 7.636719 L 21.578125 7.542969 C 21.699219 6.992188 21.761719 5.742188 21.699219 5.164062 C 21.496094 3.296875 20.664062 1.964844 19.003906 0.855469 C 18.480469 0.503906 18.457031 0.5 18.214844 0.632812\"/>\n",
       "</g>\n",
       "      </svg>\n",
       "    "
      ],
      "text/plain": [
       "<IPython.core.display.HTML object>"
      ]
     },
     "metadata": {},
     "output_type": "display_data"
    }
   ],
   "source": [
    "colors=['red','yellow','purple']\n",
    "def Circle(length, n):\n",
    "    for x in range(n):\n",
    "        t.forward(length)\n",
    "        t.color(colors[x%3])\n",
    "        t.left(360/n)\n",
    "t.initializeTurtle()\n",
    "t.speed\n",
    "\n",
    "Circle(10,60)"
   ]
  },
  {
   "cell_type": "code",
   "execution_count": 17,
   "metadata": {},
   "outputs": [
    {
     "data": {
      "text/html": [
       "\n",
       "      <svg width=\"800\" height=\"500\">\n",
       "        <rect width=\"100%\" height=\"100%\" fill=\"black\"/>\n",
       "        <line x1=\"400\" y1=\"250\" x2=\"400.0\" y2=\"203.0\" stroke-linecap=\"round\" style=\"stroke:white;stroke-width:4\"/><line x1=\"400.0\" y1=\"203.0\" x2=\"344.64\" y2=\"120.925\" stroke-linecap=\"round\" style=\"stroke:red;stroke-width:4\"/><line x1=\"344.64\" y1=\"120.925\" x2=\"393.696\" y2=\"163.569\" stroke-linecap=\"round\" style=\"stroke:yellow;stroke-width:4\"/><line x1=\"393.696\" y1=\"163.569\" x2=\"445.016\" y2=\"208.181\" stroke-linecap=\"round\" style=\"stroke:purple;stroke-width:4\"/><line x1=\"445.016\" y1=\"208.181\" x2=\"443.342\" y2=\"232.123\" stroke-linecap=\"round\" style=\"stroke:red;stroke-width:4\"/><line x1=\"443.342\" y1=\"232.123\" x2=\"490.973\" y2=\"204.623\" stroke-linecap=\"round\" style=\"stroke:yellow;stroke-width:4\"/><line x1=\"490.973\" y1=\"204.623\" x2=\"504.815\" y2=\"222.992\" stroke-linecap=\"round\" style=\"stroke:purple;stroke-width:4\"/><line x1=\"504.815\" y1=\"222.992\" x2=\"521.353\" y2=\"165.316\" stroke-linecap=\"round\" style=\"stroke:red;stroke-width:4\"/><line x1=\"521.353\" y1=\"165.316\" x2=\"525.264\" y2=\"140.624\" stroke-linecap=\"round\" style=\"stroke:yellow;stroke-width:4\"/><line x1=\"525.264\" y1=\"140.624\" x2=\"459.354\" y2=\"137.17\" stroke-linecap=\"round\" style=\"stroke:purple;stroke-width:4\"/><line x1=\"459.354\" y1=\"137.17\" x2=\"469.655\" y2=\"154.313\" stroke-linecap=\"round\" style=\"stroke:red;stroke-width:4\"/><line x1=\"469.655\" y1=\"154.313\" x2=\"499.607\" y2=\"241.301\" stroke-linecap=\"round\" style=\"stroke:yellow;stroke-width:4\"/><line x1=\"499.607\" y1=\"241.301\" x2=\"487.755\" y2=\"243.178\" stroke-linecap=\"round\" style=\"stroke:purple;stroke-width:4\"/><line x1=\"487.755\" y1=\"243.178\" x2=\"424.405\" y2=\"221.365\" stroke-linecap=\"round\" style=\"stroke:red;stroke-width:4\"/><line x1=\"424.405\" y1=\"221.365\" x2=\"362.414\" y2=\"222.447\" stroke-linecap=\"round\" style=\"stroke:yellow;stroke-width:4\"/><line x1=\"362.414\" y1=\"222.447\" x2=\"279.344\" y2=\"200.189\" stroke-linecap=\"round\" style=\"stroke:purple;stroke-width:4\"/><line x1=\"279.344\" y1=\"200.189\" x2=\"308.399\" y2=\"257.213\" stroke-linecap=\"round\" style=\"stroke:red;stroke-width:4\"/><line x1=\"308.399\" y1=\"257.213\" x2=\"300.674\" y2=\"280.989\" stroke-linecap=\"round\" style=\"stroke:yellow;stroke-width:4\"/><line x1=\"300.674\" y1=\"280.989\" x2=\"237.571\" y2=\"326.836\" stroke-linecap=\"round\" style=\"stroke:purple;stroke-width:4\"/><line x1=\"237.571\" y1=\"326.836\" x2=\"230.349\" y2=\"336.42\" stroke-linecap=\"round\" style=\"stroke:red;stroke-width:4\"/><line x1=\"230.349\" y1=\"336.42\" x2=\"183.463\" y2=\"339.699\" stroke-linecap=\"round\" style=\"stroke:yellow;stroke-width:4\"/><line x1=\"183.463\" y1=\"339.699\" x2=\"109.446\" y2=\"318.475\" stroke-linecap=\"round\" style=\"stroke:purple;stroke-width:4\"/><line x1=\"109.446\" y1=\"318.475\" x2=\"85.401\" y2=\"282.826\" stroke-linecap=\"round\" style=\"stroke:red;stroke-width:4\"/><line x1=\"85.401\" y1=\"282.826\" x2=\"129.282\" y2=\"323.746\" stroke-linecap=\"round\" style=\"stroke:yellow;stroke-width:4\"/><line x1=\"129.282\" y1=\"323.746\" x2=\"66.458\" y2=\"311.534\" stroke-linecap=\"round\" style=\"stroke:purple;stroke-width:4\"/><line x1=\"66.458\" y1=\"311.534\" x2=\"5.607\" y2=\"315.789\" stroke-linecap=\"round\" style=\"stroke:red;stroke-width:4\"/><line x1=\"5.607\" y1=\"315.789\" x2=\"48.371\" y2=\"311.294\" stroke-linecap=\"round\" style=\"stroke:yellow;stroke-width:4\"/><line x1=\"48.371\" y1=\"311.294\" x2=\"110.725\" y2=\"347.294\" stroke-linecap=\"round\" style=\"stroke:purple;stroke-width:4\"/><line x1=\"110.725\" y1=\"347.294\" x2=\"104.274\" y2=\"364.098\" stroke-linecap=\"round\" style=\"stroke:red;stroke-width:4\"/><line x1=\"104.274\" y1=\"364.098\" x2=\"156.759\" y2=\"424.475\" stroke-linecap=\"round\" style=\"stroke:yellow;stroke-width:4\"/><line x1=\"156.759\" y1=\"424.475\" x2=\"204.904\" y2=\"488.366\" stroke-linecap=\"round\" style=\"stroke:purple;stroke-width:4\"/><line x1=\"204.904\" y1=\"488.366\" x2=\"222.784\" y2=\"404.245\" stroke-linecap=\"round\" style=\"stroke:red;stroke-width:4\"/><line x1=\"222.784\" y1=\"404.245\" x2=\"188.369\" y2=\"453.394\" stroke-linecap=\"round\" style=\"stroke:yellow;stroke-width:4\"/><line x1=\"188.369\" y1=\"453.394\" x2=\"263.347\" y2=\"474.894\" stroke-linecap=\"round\" style=\"stroke:purple;stroke-width:4\"/><line x1=\"263.347\" y1=\"474.894\" x2=\"226.261\" y2=\"383.103\" stroke-linecap=\"round\" style=\"stroke:red;stroke-width:4\"/><line x1=\"226.261\" y1=\"383.103\" x2=\"137.369\" y2=\"369.024\" stroke-linecap=\"round\" style=\"stroke:yellow;stroke-width:4\"/><line x1=\"137.369\" y1=\"369.024\" x2=\"134.168\" y2=\"391.8\" stroke-linecap=\"round\" style=\"stroke:purple;stroke-width:4\"/><line x1=\"134.168\" y1=\"391.8\" x2=\"58.806\" y2=\"339.031\" stroke-linecap=\"round\" style=\"stroke:red;stroke-width:4\"/><line x1=\"58.806\" y1=\"339.031\" x2=\"22.278\" y2=\"349.505\" stroke-linecap=\"round\" style=\"stroke:yellow;stroke-width:4\"/><line x1=\"22.278\" y1=\"349.505\" x2=\"-26.245\" y2=\"356.324\" stroke-linecap=\"round\" style=\"stroke:purple;stroke-width:4\"/><line x1=\"-26.245\" y1=\"356.324\" x2=\"-12.973\" y2=\"413.812\" stroke-linecap=\"round\" style=\"stroke:red;stroke-width:4\"/><line x1=\"-12.973\" y1=\"413.812\" x2=\"64.301\" y2=\"397.387\" stroke-linecap=\"round\" style=\"stroke:yellow;stroke-width:4\"/><line x1=\"64.301\" y1=\"397.387\" x2=\"-11.7\" y2=\"379.841\" stroke-linecap=\"round\" style=\"stroke:purple;stroke-width:4\"/><line x1=\"-11.7\" y1=\"379.841\" x2=\"26.155\" y2=\"376.529\" stroke-linecap=\"round\" style=\"stroke:red;stroke-width:4\"/><line x1=\"26.155\" y1=\"376.529\" x2=\"46.758\" y2=\"334.286\" stroke-linecap=\"round\" style=\"stroke:yellow;stroke-width:4\"/><line x1=\"46.758\" y1=\"334.286\" x2=\"44.667\" y2=\"354.176\" stroke-linecap=\"round\" style=\"stroke:purple;stroke-width:4\"/><line x1=\"44.667\" y1=\"354.176\" x2=\"9.997\" y2=\"405.576\" stroke-linecap=\"round\" style=\"stroke:red;stroke-width:4\"/><line x1=\"9.997\" y1=\"405.576\" x2=\"1.647\" y2=\"346.16\" stroke-linecap=\"round\" style=\"stroke:yellow;stroke-width:4\"/><line x1=\"1.647\" y1=\"346.16\" x2=\"25.798\" y2=\"325.166\" stroke-linecap=\"round\" style=\"stroke:purple;stroke-width:4\"/><line x1=\"25.798\" y1=\"325.166\" x2=\"-48.475\" y2=\"381.135\" stroke-linecap=\"round\" style=\"stroke:red;stroke-width:4\"/>\n",
       "        <g visibility=visible transform=\"rotate(305,-48.475,381.135) translate(-66.475, 363.135)\">\n",
       "<path style=\" stroke:none;fill-rule:evenodd;fill:yellow;fill-opacity:1;\" d=\"M 18.214844 0.632812 C 16.109375 1.800781 15.011719 4.074219 15.074219 7.132812 L 15.085938 7.652344 L 14.785156 7.496094 C 13.476562 6.824219 11.957031 6.671875 10.40625 7.066406 C 8.46875 7.550781 6.515625 9.15625 4.394531 11.992188 C 3.0625 13.777344 2.679688 14.636719 3.042969 15.027344 L 3.15625 15.152344 L 3.519531 15.152344 C 4.238281 15.152344 4.828125 14.886719 8.1875 13.039062 C 9.386719 12.378906 10.371094 11.839844 10.378906 11.839844 C 10.386719 11.839844 10.355469 11.929688 10.304688 12.035156 C 9.832031 13.09375 9.257812 14.820312 8.96875 16.078125 C 7.914062 20.652344 8.617188 24.53125 11.070312 27.660156 C 11.351562 28.015625 11.363281 27.914062 10.972656 28.382812 C 8.925781 30.84375 7.945312 33.28125 8.238281 35.1875 C 8.289062 35.527344 8.28125 35.523438 8.917969 35.523438 C 10.941406 35.523438 13.074219 34.207031 15.136719 31.6875 C 15.359375 31.417969 15.328125 31.425781 15.5625 31.574219 C 16.292969 32.042969 18.023438 32.964844 18.175781 32.964844 C 18.335938 32.964844 19.941406 32.210938 20.828125 31.71875 C 20.996094 31.625 21.136719 31.554688 21.136719 31.558594 C 21.203125 31.664062 21.898438 32.414062 22.222656 32.730469 C 23.835938 34.300781 25.5625 35.132812 27.582031 35.300781 C 27.90625 35.328125 27.9375 35.308594 28.007812 34.984375 C 28.382812 33.242188 27.625 30.925781 25.863281 28.425781 L 25.542969 27.96875 L 25.699219 27.785156 C 28.945312 23.960938 29.132812 18.699219 26.257812 11.96875 L 26.207031 11.84375 L 27.945312 12.703125 C 31.53125 14.476562 32.316406 14.800781 33.03125 14.800781 C 33.976562 14.800781 33.78125 13.9375 32.472656 12.292969 C 28.519531 7.355469 25.394531 5.925781 21.921875 7.472656 L 21.558594 7.636719 L 21.578125 7.542969 C 21.699219 6.992188 21.761719 5.742188 21.699219 5.164062 C 21.496094 3.296875 20.664062 1.964844 19.003906 0.855469 C 18.480469 0.503906 18.457031 0.5 18.214844 0.632812\"/>\n",
       "</g>\n",
       "      </svg>\n",
       "    "
      ],
      "text/plain": [
       "<IPython.core.display.HTML object>"
      ]
     },
     "metadata": {},
     "output_type": "display_data"
    }
   ],
   "source": [
    "import random\n",
    "colors=['red','yellow','purple']\n",
    "def moving(n):\n",
    "    for x in range(n):\n",
    "        t.forward(random.randint(10,100))\n",
    "        t.color(colors[x%3])\n",
    "        t.left(random.randint(1,360))\n",
    "\n",
    "t.initializeTurtle()\n",
    "t.speed(7)\n",
    "\n",
    "moving(50)"
   ]
  },
  {
   "cell_type": "code",
   "execution_count": 19,
   "metadata": {},
   "outputs": [
    {
     "data": {
      "text/html": [
       "\n",
       "      <svg width=\"800\" height=\"500\">\n",
       "        <rect width=\"100%\" height=\"100%\" fill=\"black\"/>\n",
       "        <line x1=\"400\" y1=\"250\" x2=\"400.0\" y2=\"178.0\" stroke-linecap=\"round\" style=\"stroke:white;stroke-width:4\"/><line x1=\"400.0\" y1=\"178.0\" x2=\"471.0\" y2=\"178.0\" stroke-linecap=\"round\" style=\"stroke:white;stroke-width:4\"/><line x1=\"471.0\" y1=\"178.0\" x2=\"471.0\" y2=\"109.0\" stroke-linecap=\"round\" style=\"stroke:white;stroke-width:4\"/><line x1=\"471.0\" y1=\"109.0\" x2=\"411.0\" y2=\"109.0\" stroke-linecap=\"round\" style=\"stroke:white;stroke-width:4\"/><line x1=\"411.0\" y1=\"109.0\" x2=\"411.0\" y2=\"55.0\" stroke-linecap=\"round\" style=\"stroke:white;stroke-width:4\"/><line x1=\"411.0\" y1=\"55.0\" x2=\"456.0\" y2=\"55.0\" stroke-linecap=\"round\" style=\"stroke:white;stroke-width:4\"/><line x1=\"456.0\" y1=\"55.0\" x2=\"456.0\" y2=\"12.0\" stroke-linecap=\"round\" style=\"stroke:white;stroke-width:4\"/><line x1=\"456.0\" y1=\"12.0\" x2=\"417.0\" y2=\"12.0\" stroke-linecap=\"round\" style=\"stroke:white;stroke-width:4\"/><line x1=\"417.0\" y1=\"12.0\" x2=\"417.0\" y2=\"50.0\" stroke-linecap=\"round\" style=\"stroke:white;stroke-width:4\"/><line x1=\"417.0\" y1=\"50.0\" x2=\"387.0\" y2=\"50.0\" stroke-linecap=\"round\" style=\"stroke:white;stroke-width:4\"/><line x1=\"387.0\" y1=\"50.0\" x2=\"387.0\" y2=\"25.0\" stroke-linecap=\"round\" style=\"stroke:white;stroke-width:4\"/><line x1=\"387.0\" y1=\"25.0\" x2=\"365.0\" y2=\"25.0\" stroke-linecap=\"round\" style=\"stroke:white;stroke-width:4\"/><line x1=\"365.0\" y1=\"25.0\" x2=\"365.0\" y2=\"11.0\" stroke-linecap=\"round\" style=\"stroke:white;stroke-width:4\"/><line x1=\"365.0\" y1=\"11.0\" x2=\"374.0\" y2=\"11.0\" stroke-linecap=\"round\" style=\"stroke:white;stroke-width:4\"/><line x1=\"374.0\" y1=\"11.0\" x2=\"374.0\" y2=\"6.0\" stroke-linecap=\"round\" style=\"stroke:white;stroke-width:4\"/>\n",
       "        <g visibility=visible transform=\"rotate(270,374.0,6.0) translate(356.0, -12.0)\">\n",
       "<path style=\" stroke:none;fill-rule:evenodd;fill:white;fill-opacity:1;\" d=\"M 18.214844 0.632812 C 16.109375 1.800781 15.011719 4.074219 15.074219 7.132812 L 15.085938 7.652344 L 14.785156 7.496094 C 13.476562 6.824219 11.957031 6.671875 10.40625 7.066406 C 8.46875 7.550781 6.515625 9.15625 4.394531 11.992188 C 3.0625 13.777344 2.679688 14.636719 3.042969 15.027344 L 3.15625 15.152344 L 3.519531 15.152344 C 4.238281 15.152344 4.828125 14.886719 8.1875 13.039062 C 9.386719 12.378906 10.371094 11.839844 10.378906 11.839844 C 10.386719 11.839844 10.355469 11.929688 10.304688 12.035156 C 9.832031 13.09375 9.257812 14.820312 8.96875 16.078125 C 7.914062 20.652344 8.617188 24.53125 11.070312 27.660156 C 11.351562 28.015625 11.363281 27.914062 10.972656 28.382812 C 8.925781 30.84375 7.945312 33.28125 8.238281 35.1875 C 8.289062 35.527344 8.28125 35.523438 8.917969 35.523438 C 10.941406 35.523438 13.074219 34.207031 15.136719 31.6875 C 15.359375 31.417969 15.328125 31.425781 15.5625 31.574219 C 16.292969 32.042969 18.023438 32.964844 18.175781 32.964844 C 18.335938 32.964844 19.941406 32.210938 20.828125 31.71875 C 20.996094 31.625 21.136719 31.554688 21.136719 31.558594 C 21.203125 31.664062 21.898438 32.414062 22.222656 32.730469 C 23.835938 34.300781 25.5625 35.132812 27.582031 35.300781 C 27.90625 35.328125 27.9375 35.308594 28.007812 34.984375 C 28.382812 33.242188 27.625 30.925781 25.863281 28.425781 L 25.542969 27.96875 L 25.699219 27.785156 C 28.945312 23.960938 29.132812 18.699219 26.257812 11.96875 L 26.207031 11.84375 L 27.945312 12.703125 C 31.53125 14.476562 32.316406 14.800781 33.03125 14.800781 C 33.976562 14.800781 33.78125 13.9375 32.472656 12.292969 C 28.519531 7.355469 25.394531 5.925781 21.921875 7.472656 L 21.558594 7.636719 L 21.578125 7.542969 C 21.699219 6.992188 21.761719 5.742188 21.699219 5.164062 C 21.496094 3.296875 20.664062 1.964844 19.003906 0.855469 C 18.480469 0.503906 18.457031 0.5 18.214844 0.632812\"/>\n",
       "</g>\n",
       "      </svg>\n",
       "    "
      ],
      "text/plain": [
       "<IPython.core.display.HTML object>"
      ]
     },
     "metadata": {},
     "output_type": "display_data"
    }
   ],
   "source": [
    "def turtle(n):\n",
    "    t.initializeTurtle()\n",
    "    while n>0:\n",
    "        n = n - random.randint(1,9)\n",
    "        if n<=0:\n",
    "            break\n",
    "        t.forward(n)\n",
    "        if n%2==0:\n",
    "            t.right(90)\n",
    "        else:\n",
    "            t.left(90)\n",
    "turtle(80)\n",
    "#이동 규칙: [1번] Move forward >> [2번째~13번째] Move forward and turn right/left >> [14번째] Stop\n"
   ]
  },
  {
   "cell_type": "code",
   "execution_count": null,
   "metadata": {},
   "outputs": [],
   "source": []
  }
 ],
 "metadata": {
  "kernelspec": {
   "display_name": "Python 3",
   "language": "python",
   "name": "python3"
  },
  "language_info": {
   "codemirror_mode": {
    "name": "ipython",
    "version": 3
   },
   "file_extension": ".py",
   "mimetype": "text/x-python",
   "name": "python",
   "nbconvert_exporter": "python",
   "pygments_lexer": "ipython3",
   "version": "3.11.3"
  },
  "orig_nbformat": 4
 },
 "nbformat": 4,
 "nbformat_minor": 2
}
