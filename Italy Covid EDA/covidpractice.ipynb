{
 "cells": [
  {
   "cell_type": "code",
   "execution_count": 19,
   "metadata": {},
   "outputs": [
    {
     "data": {
      "text/plain": [
       "pandas.core.frame.DataFrame"
      ]
     },
     "execution_count": 19,
     "metadata": {},
     "output_type": "execute_result"
    }
   ],
   "source": [
    "import pandas as pd\n",
    "import matplotlib.pyplot as plt\n",
    "import numpy as np\n",
    "import matplotlib.ticker as plticker\n",
    "\n",
    "dataset = pd.read_csv('covid19_italy_region.csv')\n",
    "type(dataset)"
   ]
  },
  {
   "cell_type": "code",
   "execution_count": 7,
   "metadata": {},
   "outputs": [
    {
     "data": {
      "text/html": [
       "<div>\n",
       "<style scoped>\n",
       "    .dataframe tbody tr th:only-of-type {\n",
       "        vertical-align: middle;\n",
       "    }\n",
       "\n",
       "    .dataframe tbody tr th {\n",
       "        vertical-align: top;\n",
       "    }\n",
       "\n",
       "    .dataframe thead th {\n",
       "        text-align: right;\n",
       "    }\n",
       "</style>\n",
       "<table border=\"1\" class=\"dataframe\">\n",
       "  <thead>\n",
       "    <tr style=\"text-align: right;\">\n",
       "      <th></th>\n",
       "      <th>SNo</th>\n",
       "      <th>Date</th>\n",
       "      <th>Country</th>\n",
       "      <th>RegionCode</th>\n",
       "      <th>RegionName</th>\n",
       "      <th>Latitude</th>\n",
       "      <th>Longitude</th>\n",
       "      <th>HospitalizedPatients</th>\n",
       "      <th>IntensiveCarePatients</th>\n",
       "      <th>TotalHospitalizedPatients</th>\n",
       "      <th>HomeConfinement</th>\n",
       "      <th>CurrentPositiveCases</th>\n",
       "      <th>NewPositiveCases</th>\n",
       "      <th>Recovered</th>\n",
       "      <th>Deaths</th>\n",
       "      <th>TotalPositiveCases</th>\n",
       "      <th>TestsPerformed</th>\n",
       "    </tr>\n",
       "  </thead>\n",
       "  <tbody>\n",
       "    <tr>\n",
       "      <th>0</th>\n",
       "      <td>0</td>\n",
       "      <td>2020-02-24T18:00:00</td>\n",
       "      <td>ITA</td>\n",
       "      <td>13</td>\n",
       "      <td>Abruzzo</td>\n",
       "      <td>42.351222</td>\n",
       "      <td>13.398438</td>\n",
       "      <td>0</td>\n",
       "      <td>0</td>\n",
       "      <td>0</td>\n",
       "      <td>0</td>\n",
       "      <td>0</td>\n",
       "      <td>0</td>\n",
       "      <td>0</td>\n",
       "      <td>0</td>\n",
       "      <td>0</td>\n",
       "      <td>NaN</td>\n",
       "    </tr>\n",
       "    <tr>\n",
       "      <th>1</th>\n",
       "      <td>1</td>\n",
       "      <td>2020-02-24T18:00:00</td>\n",
       "      <td>ITA</td>\n",
       "      <td>17</td>\n",
       "      <td>Basilicata</td>\n",
       "      <td>40.639471</td>\n",
       "      <td>15.805148</td>\n",
       "      <td>0</td>\n",
       "      <td>0</td>\n",
       "      <td>0</td>\n",
       "      <td>0</td>\n",
       "      <td>0</td>\n",
       "      <td>0</td>\n",
       "      <td>0</td>\n",
       "      <td>0</td>\n",
       "      <td>0</td>\n",
       "      <td>NaN</td>\n",
       "    </tr>\n",
       "    <tr>\n",
       "      <th>2</th>\n",
       "      <td>2</td>\n",
       "      <td>2020-02-24T18:00:00</td>\n",
       "      <td>ITA</td>\n",
       "      <td>18</td>\n",
       "      <td>Calabria</td>\n",
       "      <td>38.905976</td>\n",
       "      <td>16.594402</td>\n",
       "      <td>0</td>\n",
       "      <td>0</td>\n",
       "      <td>0</td>\n",
       "      <td>0</td>\n",
       "      <td>0</td>\n",
       "      <td>0</td>\n",
       "      <td>0</td>\n",
       "      <td>0</td>\n",
       "      <td>0</td>\n",
       "      <td>NaN</td>\n",
       "    </tr>\n",
       "    <tr>\n",
       "      <th>3</th>\n",
       "      <td>3</td>\n",
       "      <td>2020-02-24T18:00:00</td>\n",
       "      <td>ITA</td>\n",
       "      <td>15</td>\n",
       "      <td>Campania</td>\n",
       "      <td>40.839566</td>\n",
       "      <td>14.250850</td>\n",
       "      <td>0</td>\n",
       "      <td>0</td>\n",
       "      <td>0</td>\n",
       "      <td>0</td>\n",
       "      <td>0</td>\n",
       "      <td>0</td>\n",
       "      <td>0</td>\n",
       "      <td>0</td>\n",
       "      <td>0</td>\n",
       "      <td>NaN</td>\n",
       "    </tr>\n",
       "    <tr>\n",
       "      <th>4</th>\n",
       "      <td>4</td>\n",
       "      <td>2020-02-24T18:00:00</td>\n",
       "      <td>ITA</td>\n",
       "      <td>8</td>\n",
       "      <td>Emilia-Romagna</td>\n",
       "      <td>44.494367</td>\n",
       "      <td>11.341721</td>\n",
       "      <td>10</td>\n",
       "      <td>2</td>\n",
       "      <td>12</td>\n",
       "      <td>6</td>\n",
       "      <td>18</td>\n",
       "      <td>18</td>\n",
       "      <td>0</td>\n",
       "      <td>0</td>\n",
       "      <td>18</td>\n",
       "      <td>NaN</td>\n",
       "    </tr>\n",
       "  </tbody>\n",
       "</table>\n",
       "</div>"
      ],
      "text/plain": [
       "   SNo                 Date Country  RegionCode      RegionName   Latitude  \\\n",
       "0    0  2020-02-24T18:00:00     ITA          13         Abruzzo  42.351222   \n",
       "1    1  2020-02-24T18:00:00     ITA          17      Basilicata  40.639471   \n",
       "2    2  2020-02-24T18:00:00     ITA          18        Calabria  38.905976   \n",
       "3    3  2020-02-24T18:00:00     ITA          15        Campania  40.839566   \n",
       "4    4  2020-02-24T18:00:00     ITA           8  Emilia-Romagna  44.494367   \n",
       "\n",
       "   Longitude  HospitalizedPatients  IntensiveCarePatients  \\\n",
       "0  13.398438                     0                      0   \n",
       "1  15.805148                     0                      0   \n",
       "2  16.594402                     0                      0   \n",
       "3  14.250850                     0                      0   \n",
       "4  11.341721                    10                      2   \n",
       "\n",
       "   TotalHospitalizedPatients  HomeConfinement  CurrentPositiveCases  \\\n",
       "0                          0                0                     0   \n",
       "1                          0                0                     0   \n",
       "2                          0                0                     0   \n",
       "3                          0                0                     0   \n",
       "4                         12                6                    18   \n",
       "\n",
       "   NewPositiveCases  Recovered  Deaths  TotalPositiveCases  TestsPerformed  \n",
       "0                 0          0       0                   0             NaN  \n",
       "1                 0          0       0                   0             NaN  \n",
       "2                 0          0       0                   0             NaN  \n",
       "3                 0          0       0                   0             NaN  \n",
       "4                18          0       0                  18             NaN  "
      ]
     },
     "execution_count": 7,
     "metadata": {},
     "output_type": "execute_result"
    }
   ],
   "source": [
    "dataset.head(5)"
   ]
  },
  {
   "cell_type": "code",
   "execution_count": 20,
   "metadata": {},
   "outputs": [
    {
     "data": {
      "text/plain": [
       "Index(['SNo', 'Date', 'Country', 'RegionCode', 'RegionName', 'Latitude',\n",
       "       'Longitude', 'HospitalizedPatients', 'IntensiveCarePatients',\n",
       "       'TotalHospitalizedPatients', 'HomeConfinement', 'CurrentPositiveCases',\n",
       "       'NewPositiveCases', 'Recovered', 'Deaths', 'TotalPositiveCases',\n",
       "       'TestsPerformed'],\n",
       "      dtype='object')"
      ]
     },
     "execution_count": 20,
     "metadata": {},
     "output_type": "execute_result"
    }
   ],
   "source": [
    "dataset.columns"
   ]
  },
  {
   "cell_type": "code",
   "execution_count": 12,
   "metadata": {},
   "outputs": [
    {
     "name": "stdout",
     "output_type": "stream",
     "text": [
      "<class 'pandas.core.frame.DataFrame'>\n",
      "RangeIndex: 6027 entries, 0 to 6026\n",
      "Data columns (total 17 columns):\n",
      " #   Column                     Non-Null Count  Dtype  \n",
      "---  ------                     --------------  -----  \n",
      " 0   SNo                        6027 non-null   int64  \n",
      " 1   Date                       6027 non-null   object \n",
      " 2   Country                    6027 non-null   object \n",
      " 3   RegionCode                 6027 non-null   int64  \n",
      " 4   RegionName                 6027 non-null   object \n",
      " 5   Latitude                   6027 non-null   float64\n",
      " 6   Longitude                  6027 non-null   float64\n",
      " 7   HospitalizedPatients       6027 non-null   int64  \n",
      " 8   IntensiveCarePatients      6027 non-null   int64  \n",
      " 9   TotalHospitalizedPatients  6027 non-null   int64  \n",
      " 10  HomeConfinement            6027 non-null   int64  \n",
      " 11  CurrentPositiveCases       6027 non-null   int64  \n",
      " 12  NewPositiveCases           6027 non-null   int64  \n",
      " 13  Recovered                  6027 non-null   int64  \n",
      " 14  Deaths                     6027 non-null   int64  \n",
      " 15  TotalPositiveCases         6027 non-null   int64  \n",
      " 16  TestsPerformed             4872 non-null   float64\n",
      "dtypes: float64(3), int64(11), object(3)\n",
      "memory usage: 800.6+ KB\n"
     ]
    }
   ],
   "source": [
    "dataset.info()"
   ]
  },
  {
   "cell_type": "code",
   "execution_count": 6,
   "metadata": {},
   "outputs": [
    {
     "data": {
      "text/plain": [
       "RegionName\n",
       "Abruzzo                  287\n",
       "P.A. Bolzano             287\n",
       "Valle d'Aosta            287\n",
       "Umbria                   287\n",
       "Toscana                  287\n",
       "Sicilia                  287\n",
       "Sardegna                 287\n",
       "Puglia                   287\n",
       "Piemonte                 287\n",
       "P.A. Trento              287\n",
       "Molise                   287\n",
       "Basilicata               287\n",
       "Marche                   287\n",
       "Lombardia                287\n",
       "Liguria                  287\n",
       "Lazio                    287\n",
       "Friuli Venezia Giulia    287\n",
       "Emilia-Romagna           287\n",
       "Campania                 287\n",
       "Calabria                 287\n",
       "Veneto                   287\n",
       "Name: count, dtype: int64"
      ]
     },
     "execution_count": 6,
     "metadata": {},
     "output_type": "execute_result"
    }
   ],
   "source": [
    "dataset.value_counts(dataset['RegionName'])\n",
    "dataset.value_counts(dataset['Country'])\n",
    "dataset.value_counts(dataset['RegionCode'])"
   ]
  },
  {
   "cell_type": "code",
   "execution_count": 27,
   "metadata": {},
   "outputs": [
    {
     "data": {
      "text/plain": [
       "count      6027.000000\n",
       "mean       9337.852829\n",
       "std       20551.265039\n",
       "min           0.000000\n",
       "25%         734.000000\n",
       "50%        2840.000000\n",
       "75%        8450.500000\n",
       "max      289706.000000\n",
       "Name: Recovered, dtype: float64"
      ]
     },
     "execution_count": 27,
     "metadata": {},
     "output_type": "execute_result"
    }
   ],
   "source": [
    "dataset['TestsPerformed'].describe()\n",
    "dataset['TestsPerformed'].describe()\n",
    "dataset['Deaths'].describe()\n",
    "dataset['Recovered'].describe()"
   ]
  },
  {
   "cell_type": "code",
   "execution_count": 23,
   "metadata": {},
   "outputs": [
    {
     "name": "stdout",
     "output_type": "stream",
     "text": [
      "총 감염자 수 103062445\n",
      "총 검사자 수 1267114790.0\n",
      "총 사망자 수 8886032\n",
      "총 회복자 수 56279239\n"
     ]
    }
   ],
   "source": [
    "print(\"총 감염자 수\", dataset['TotalPositiveCases'].sum())\n",
    "print(\"총 검사자 수\", dataset['TestsPerformed'].sum())\n",
    "print(\"총 사망자 수\", dataset['Deaths'].sum())\n",
    "print(\"총 회복자 수\", dataset['Recovered'].sum())\n"
   ]
  },
  {
   "cell_type": "code",
   "execution_count": 13,
   "metadata": {},
   "outputs": [
    {
     "data": {
      "text/plain": [
       "SNo                             0\n",
       "Date                            0\n",
       "Country                         0\n",
       "RegionCode                      0\n",
       "RegionName                      0\n",
       "Latitude                        0\n",
       "Longitude                       0\n",
       "HospitalizedPatients            0\n",
       "IntensiveCarePatients           0\n",
       "TotalHospitalizedPatients       0\n",
       "HomeConfinement                 0\n",
       "CurrentPositiveCases            0\n",
       "NewPositiveCases                0\n",
       "Recovered                       0\n",
       "Deaths                          0\n",
       "TotalPositiveCases              0\n",
       "TestsPerformed               1155\n",
       "dtype: int64"
      ]
     },
     "execution_count": 13,
     "metadata": {},
     "output_type": "execute_result"
    }
   ],
   "source": [
    "dataset.isnull().sum()"
   ]
  },
  {
   "cell_type": "code",
   "execution_count": 14,
   "metadata": {},
   "outputs": [
    {
     "name": "stdout",
     "output_type": "stream",
     "text": [
      "0.8722532022962405\n"
     ]
    }
   ],
   "source": [
    "print(dataset['TestsPerformed'].corr(dataset['TotalPositiveCases']))\n",
    "print(dataset['Deaths'].corr(dataset['TotalPositiveCases']))\n",
    "print(dataset['CurrentPositiveCases'].corr(dataset['TotalPositiveCases']))\n",
    "print(dataset['NewPositiveCases'].corr(dataset['TotalPositiveCases']))\n",
    "print(dataset['Recovered'].corr(dataset['TotalPositiveCases']))"
   ]
  }
 ],
 "metadata": {
  "kernelspec": {
   "display_name": "Python 3",
   "language": "python",
   "name": "python3"
  },
  "language_info": {
   "codemirror_mode": {
    "name": "ipython",
    "version": 3
   },
   "file_extension": ".py",
   "mimetype": "text/x-python",
   "name": "python",
   "nbconvert_exporter": "python",
   "pygments_lexer": "ipython3",
   "version": "3.11.3"
  },
  "orig_nbformat": 4
 },
 "nbformat": 4,
 "nbformat_minor": 2
}
